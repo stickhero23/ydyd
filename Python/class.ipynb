{
 "cells": [
  {
   "cell_type": "code",
   "execution_count": 6,
   "metadata": {},
   "outputs": [
    {
     "data": {
      "text/plain": [
       "<__main__.vehicle at 0x20c5e151270>"
      ]
     },
     "execution_count": 6,
     "metadata": {},
     "output_type": "execute_result"
    }
   ],
   "source": [
    "class vehicle:\n",
    "    def config(self):\n",
    "        model = 'Mark X'\n",
    "        manufacturer = 'Toyota'\n",
    "        yom = 2018\n",
    "        price = 45397\n",
    "        color = 'Silver'\n",
    "my_car = vehicle()\n",
    "my_car\n"
   ]
  },
  {
   "cell_type": "code",
   "execution_count": 2,
   "metadata": {},
   "outputs": [
    {
     "name": "stdout",
     "output_type": "stream",
     "text": [
      "2.5\n"
     ]
    }
   ],
   "source": [
    "#Error handling\n",
    "a = 4\n",
    "#b = int(input(\"Enter a number:\"))\n",
    "b = 1.6\n",
    "try:\n",
    "    print(a/b)\n",
    "except ZeroDivisionError as e:\n",
    "    print('You cannot divide by zero')\n",
    "except ValueError as e:\n",
    "    print('Invalid Input')\n",
    "except Exception as e:\n",
    "    print('Something went wrong....')\n"
   ]
  },
  {
   "cell_type": "code",
   "execution_count": 5,
   "metadata": {},
   "outputs": [
    {
     "data": {
      "text/plain": [
       "3726.0"
      ]
     },
     "execution_count": 5,
     "metadata": {},
     "output_type": "execute_result"
    }
   ],
   "source": [
    "def calc_simple_interest(rate, principle, time):\n",
    "    rate = float(input(\"Enter interest rate:\"))\n",
    "    principle = int(input(\"Enter the principle amount:\"))\n",
    "    time = float(input(\"Enter the time in years\")) # year such as 0.5 years, 2.5 years etc.\n",
    "    simple_interest = principle * rate * time \n",
    "    return simple_interest\n",
    "calc_simple_interest()"
   ]
  },
  {
   "cell_type": "code",
   "execution_count": 18,
   "metadata": {},
   "outputs": [
    {
     "data": {
      "text/plain": [
       "2501.5"
      ]
     },
     "execution_count": 18,
     "metadata": {},
     "output_type": "execute_result"
    }
   ],
   "source": [
    "def calc_simple_interest(rate, principle, time):\n",
    "    simple_interest = principle * rate * time\n",
    "    simple_interest = round(simple_interest, 1)\n",
    "    return simple_interest\n",
    "# Example: interest rate = 6%, principle amount $6500, and time 5 years\n",
    "calc_simple_interest(0.0686, 6500, 5.61)"
   ]
  },
  {
   "cell_type": "code",
   "execution_count": 21,
   "metadata": {},
   "outputs": [
    {
     "data": {
      "text/plain": [
       "24"
      ]
     },
     "execution_count": 21,
     "metadata": {},
     "output_type": "execute_result"
    }
   ],
   "source": [
    "#Write a Python program to sum  two given integers.\n",
    "#However, if the sum is between 15 to 20 it will return 20 else it returns the actual sum\n",
    "\n",
    "def int_sum():\n",
    "    a = int(input(\"Enter the first integer:\"))\n",
    "    b = int(input(\"Enter the second integer:\"))\n",
    "    sum = a + b\n",
    "    if (sum >= 15 and sum <= 20):\n",
    "        return 20\n",
    "    else:\n",
    "        return sum\n",
    "int_sum()"
   ]
  },
  {
   "cell_type": "code",
   "execution_count": 25,
   "metadata": {},
   "outputs": [
    {
     "data": {
      "text/plain": [
       "(2464, 200)"
      ]
     },
     "execution_count": 25,
     "metadata": {},
     "output_type": "execute_result"
    }
   ],
   "source": [
    "#Write a function to calculate area and perimeter of a rectangle.\n",
    "def rectangle_operation():\n",
    "    length = int(input(\"Enter length:\"))\n",
    "    width = int(input(\"Enter width:\"))\n",
    "    area_rectangle = length * width \n",
    "    perimeter_rectangle = 2 * (width + length)\n",
    "    return area_rectangle, perimeter_rectangle\n",
    "rectangle_operation()"
   ]
  },
  {
   "cell_type": "code",
   "execution_count": null,
   "metadata": {},
   "outputs": [],
   "source": [
    "class houses(object):\n",
    "    def __init__(self, hsize, htype, price):\n",
    "        self.hsize = hsize\n",
    "        self.type = htype\n",
    "        self.price = price\n",
    "    def \n",
    "\n"
   ]
  },
  {
   "cell_type": "code",
   "execution_count": null,
   "metadata": {},
   "outputs": [],
   "source": [
    "class fruits:\n",
    "    def fruit_sales(self):\n",
    "        fruit_type = ['Water Melon', 'Orange', 'Apple', 'Mango', 'Banana']\n",
    "        "
   ]
  },
  {
   "cell_type": "code",
   "execution_count": null,
   "metadata": {},
   "outputs": [],
   "source": [
    "class students:\n",
    "    def admit(self):\n",
    "        print(\"3042, David, Form 1A\")\n",
    "stud1 = students() #assign function to a variable\n",
    "stud1.admit() # call the method\n",
    "\n"
   ]
  }
 ],
 "metadata": {
  "kernelspec": {
   "display_name": "Python 3.10.8 64-bit (microsoft store)",
   "language": "python",
   "name": "python3"
  },
  "language_info": {
   "codemirror_mode": {
    "name": "ipython",
    "version": 3
   },
   "file_extension": ".py",
   "mimetype": "text/x-python",
   "name": "python",
   "nbconvert_exporter": "python",
   "pygments_lexer": "ipython3",
   "version": "3.10.8"
  },
  "orig_nbformat": 4,
  "vscode": {
   "interpreter": {
    "hash": "ba37d69516b96b2df66115ef342e83722e1a1518f5d2e0ee41eb08141fa2fe2a"
   }
  }
 },
 "nbformat": 4,
 "nbformat_minor": 2
}
